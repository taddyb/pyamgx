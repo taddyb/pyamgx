{
 "cells": [
  {
   "cell_type": "markdown",
   "metadata": {},
   "source": [
    "# Accelerating FiPy with `pyamgx`"
   ]
  },
  {
   "cell_type": "markdown",
   "metadata": {},
   "source": [
    "This notebook demonstrates how `pyamgx` can be used to speed up the [`FiPy`](https://www.ctcms.nist.gov/fipy/) finite volume code. The speed-up results from using the GPU-accelerated sparse solvers from the NVIDIA [AmgX](https://github.com/NVIDIA/AMGX) library."
   ]
  },
  {
   "cell_type": "markdown",
   "metadata": {},
   "source": [
    "All tests are performed on a compute node with an NVIDIA Tesla P-100 GPU (there are 2 per node, but only one is used), and a 28-core Intel Xeon processor."
   ]
  },
  {
   "cell_type": "code",
   "execution_count": 1,
   "metadata": {},
   "outputs": [
    {
     "name": "stdout",
     "output_type": "stream",
     "text": [
      "Thu Apr 26 07:33:23 2018       \r\n",
      "+-----------------------------------------------------------------------------+\r\n",
      "| NVIDIA-SMI 384.98                 Driver Version: 384.98                    |\r\n",
      "|-------------------------------+----------------------+----------------------+\r\n",
      "| GPU  Name        Persistence-M| Bus-Id        Disp.A | Volatile Uncorr. ECC |\r\n",
      "| Fan  Temp  Perf  Pwr:Usage/Cap|         Memory-Usage | GPU-Util  Compute M. |\r\n",
      "|===============================+======================+======================|\r\n",
      "|   0  Tesla P100-PCIE...  Off  | 00000000:02:00.0 Off |                    0 |\r\n",
      "| N/A   19C    P0    30W / 250W |     24MiB / 12193MiB |      0%      Default |\r\n",
      "+-------------------------------+----------------------+----------------------+\r\n",
      "|   1  Tesla P100-PCIE...  Off  | 00000000:82:00.0 Off |                    0 |\r\n",
      "| N/A   16C    P0    23W / 250W |     24MiB / 12193MiB |      0%      Default |\r\n",
      "+-------------------------------+----------------------+----------------------+\r\n",
      "                                                                               \r\n",
      "+-----------------------------------------------------------------------------+\r\n",
      "| Processes:                                                       GPU Memory |\r\n",
      "|  GPU       PID   Type   Process name                             Usage      |\r\n",
      "|=============================================================================|\r\n",
      "|    0      4953      G   /usr/bin/X                                    24MiB |\r\n",
      "|    1      4953      G   /usr/bin/X                                    24MiB |\r\n",
      "+-----------------------------------------------------------------------------+\r\n"
     ]
    }
   ],
   "source": [
    "!nvidia-smi"
   ]
  },
  {
   "cell_type": "markdown",
   "metadata": {},
   "source": [
    "## Example 1: 2-D steady-state diffusion equation"
   ]
  },
  {
   "cell_type": "markdown",
   "metadata": {},
   "source": [
    "This example is taken from the FiPy examples listed [here](https://www.ctcms.nist.gov/fipy/examples/diffusion/index.html).\n",
    "\n",
    "We consider solving the 2-D steady-state diffusion equation $ \\nabla^2 \\phi = 0 $ on a square grid. Dirichlet boundary conditions are applied to the top-left and bottom-right corners. Neumann boundary conditions are automatically applied to the bottom-left and top-right corners. \n",
    "\n",
    "The function `setup_phi` below sets up the initial values and boundary conditions for the variable $\\phi$. Note that the initial value of $\\phi$ is set to zero at each grid point."
   ]
  },
  {
   "cell_type": "code",
   "execution_count": 2,
   "metadata": {},
   "outputs": [],
   "source": [
    "from fipy import *\n",
    "\n",
    "def setup_phi(N):\n",
    "    nx = N\n",
    "    ny = nx\n",
    "    dx = 1.\n",
    "    dy = dx\n",
    "    L = dx * nx\n",
    "    mesh = Grid2D(dx=dx, dy=dy, nx=nx, ny=ny)\n",
    "\n",
    "    phi = CellVariable(name = \"solution variable $\\phi$\",\n",
    "                       mesh = mesh,\n",
    "                       value = 0.0) # `value` specifies the initial values\n",
    "\n",
    "    valueTopLeft = 0\n",
    "    valueBottomRight = 1\n",
    "\n",
    "    X, Y = mesh.faceCenters\n",
    "    facesTopLeft = ((mesh.facesLeft & (Y > L / 2))\n",
    "                     | (mesh.facesTop & (X < L / 2)))\n",
    "    facesBottomRight = ((mesh.facesRight & (Y < L / 2))\n",
    "                         | (mesh.facesBottom & (X > L / 2)))\n",
    "\n",
    "    phi.constrain(valueTopLeft, facesTopLeft)\n",
    "    phi.constrain(valueBottomRight, facesBottomRight)\n",
    "    return phi"
   ]
  },
  {
   "cell_type": "markdown",
   "metadata": {},
   "source": [
    "First, we define $\\phi$ on a 1000x1000 grid:"
   ]
  },
  {
   "cell_type": "code",
   "execution_count": 3,
   "metadata": {},
   "outputs": [],
   "source": [
    "phi = setup_phi(1000)"
   ]
  },
  {
   "cell_type": "markdown",
   "metadata": {},
   "source": [
    "Next, we construct the diffusion equation consisting of the term  $ \\nabla^2 \\phi $."
   ]
  },
  {
   "cell_type": "code",
   "execution_count": 4,
   "metadata": {},
   "outputs": [],
   "source": [
    "eq = DiffusionTerm()"
   ]
  },
  {
   "cell_type": "markdown",
   "metadata": {},
   "source": [
    "The `eq` object represents the discretization of the diffusion equation, which will result in a system of linear equations. The solution of this (sparse) linear system gives the values of $\\phi$ at the grid points."
   ]
  },
  {
   "cell_type": "code",
   "execution_count": 5,
   "metadata": {},
   "outputs": [
    {
     "name": "stdout",
     "output_type": "stream",
     "text": [
      "7.48 s ± 0 ns per loop (mean ± std. dev. of 1 run, 1 loop each)\n"
     ]
    }
   ],
   "source": [
    "%%timeit -n1 -r1\n",
    "eq.solve(var=phi)"
   ]
  },
  {
   "cell_type": "markdown",
   "metadata": {},
   "source": [
    "The solution can be visualized using a FiPy `Viewer`:"
   ]
  },
  {
   "cell_type": "code",
   "execution_count": 6,
   "metadata": {},
   "outputs": [],
   "source": [
    "viewer = Viewer(vars=phi, datamin=0., datamax=1., cmap='hot')"
   ]
  },
  {
   "cell_type": "markdown",
   "metadata": {},
   "source": [
    "We note that the solution took about 7 seconds using the default settings. What solver was used?"
   ]
  },
  {
   "cell_type": "code",
   "execution_count": 7,
   "metadata": {},
   "outputs": [
    {
     "name": "stdout",
     "output_type": "stream",
     "text": [
      "<class 'fipy.solvers.pyAMG.linearGMRESSolver.LinearGMRESSolver'>\n"
     ]
    }
   ],
   "source": [
    "print(DefaultSolver)"
   ]
  },
  {
   "cell_type": "markdown",
   "metadata": {},
   "source": [
    "The default solver is the GMRES solver from the [pyAMG](http://code.google.com/p/pyamg/) package. To compare, let's use a different solver (CGS solver from the SciPy package):"
   ]
  },
  {
   "cell_type": "code",
   "execution_count": 8,
   "metadata": {},
   "outputs": [],
   "source": [
    "from fipy.solvers.scipy import LinearCGSSolver"
   ]
  },
  {
   "cell_type": "markdown",
   "metadata": {},
   "source": [
    "Before solving the equation again, it's important to reset the values of $\\phi$:"
   ]
  },
  {
   "cell_type": "code",
   "execution_count": 9,
   "metadata": {},
   "outputs": [],
   "source": [
    "phi.value = 0"
   ]
  },
  {
   "cell_type": "markdown",
   "metadata": {},
   "source": [
    "The (optional) `solver` argument to the `solve` method allows us to specify the sparse solver to be used. Let's use the `LinearCGSSolver` imported above:"
   ]
  },
  {
   "cell_type": "code",
   "execution_count": 10,
   "metadata": {},
   "outputs": [
    {
     "name": "stdout",
     "output_type": "stream",
     "text": [
      "55.9 s ± 0 ns per loop (mean ± std. dev. of 1 run, 1 loop each)\n"
     ]
    }
   ],
   "source": [
    "%%timeit -n1 -r1\n",
    "eq.solve(var=phi, solver=LinearCGSSolver())"
   ]
  },
  {
   "cell_type": "code",
   "execution_count": 11,
   "metadata": {},
   "outputs": [
    {
     "data": {
      "image/png": "[encoded data removed]",
      "text/plain": [
       "<matplotlib.figure.Figure at 0x2ad787d1a320>"
      ]
     },
     "metadata": {},
     "output_type": "display_data"
    }
   ],
   "source": [
    "viewer = Viewer(vars=phi, datamin=0., datamax=1., cmap='hot')"
   ]
  },
  {
   "cell_type": "markdown",
   "metadata": {},
   "source": [
    "Any of [FiPy's solvers](https://www.ctcms.nist.gov/fipy/documentation/SOLVERS.html) can be used with the `solver` argument above. All FiPy solvers are classes that inherit from a common abstract base-class `Solver`, allowing them to be used interchangeably. It's also possible to use a custom solver class, as long as it inherits from the `Solver` base-class, and provides the same interface as other FiPy solvers.\n",
    "\n",
    "Below, we define a custom `PyAMGXSolver` class that serves as an interface to the AmgX library linear solvers. The `pyamgx` library is used to interface AmgX from Python. In addition to providing an interface to the AmgX solvers, `pyamgx` allows us to \"upload\" Numpy arrays and SciPy sparse matrices (which reside in CPU memory) to AmgX vectors and matrices (which reside on the GPU); and to \"download\" AmgX vectors back to NumPy arrays."
   ]
  },
  {
   "cell_type": "code",
   "execution_count": 12,
   "metadata": {},
   "outputs": [],
   "source": [
    "from fipy.solvers.solver import Solver\n",
    "from fipy.matrices.scipyMatrix import _ScipyMeshMatrix\n",
    "from fipy.tools import numerix\n",
    "\n",
    "import numpy\n",
    "from scipy.sparse import csr_matrix\n",
    "import pyamgx\n",
    "import os\n",
    "\n",
    "class PyAMGXSolver(Solver):\n",
    "    \"\"\"\n",
    "    The PyAMGXSolver class.\n",
    "    \"\"\"\n",
    "\n",
    "    def __init__(self, config_dict, *args, **kwargs):\n",
    "        \"\"\"\n",
    "        Parameters\n",
    "        ----------\n",
    "        config_dict : dict\n",
    "            Dictionary specifying AMGX configuration options\n",
    "        \"\"\"\n",
    "        self.config_dict = config_dict\n",
    "        self.cfg = pyamgx.Config().create_from_dict(self.config_dict)\n",
    "        self.resources = pyamgx.Resources().create_simple(self.cfg)\n",
    "        self.x_gpu = pyamgx.Vector().create(self.resources)\n",
    "        self.b_gpu = pyamgx.Vector().create(self.resources)\n",
    "        self.A_gpu = pyamgx.Matrix().create(self.resources)\n",
    "        self.solver = pyamgx.Solver().create(self.resources, self.cfg)\n",
    "\n",
    "    @property\n",
    "    def _matrixClass(self):\n",
    "        return _ScipyMeshMatrix\n",
    "\n",
    "    def _storeMatrix(self, var, matrix, RHSvector):\n",
    "        self.var = var\n",
    "        self.matrix = matrix\n",
    "        self.RHSvector = RHSvector\n",
    "\n",
    "        self.A_gpu.upload_CSR(self.matrix.matrix)\n",
    "        self.solver.setup(self.A_gpu)\n",
    "\n",
    "    def _solve_(self, L, x, b):\n",
    "        # transfer data from CPU to GPU\n",
    "        self.x_gpu.upload(x)\n",
    "        self.b_gpu.upload(b)\n",
    "\n",
    "        # solve system on GPU\n",
    "        self.solver.solve(self.b_gpu, self.x_gpu)\n",
    "\n",
    "        # download values from GPU to CPU\n",
    "        self.x_gpu.download(x)\n",
    "\n",
    "    def _solve(self):\n",
    "        self._solve_(self.matrix, self.var.ravel(), numerix.array(self.RHSvector))\n",
    "            \n",
    "    def _canSolveAsymmetric(self):\n",
    "        return False\n",
    "\n",
    "    def destroy(self):\n",
    "        self.A_gpu.destroy()\n",
    "        self.b_gpu.destroy()\n",
    "        self.x_gpu.destroy()\n",
    "        self.solver.destroy()\n",
    "        self.resources.destroy()\n",
    "        self.cfg.destroy()"
   ]
  },
  {
   "cell_type": "markdown",
   "metadata": {},
   "source": [
    "The `PyAMGXSolver` class accepts a dictionary containing solver configuration options as input. Examples of solver configurations can be found [here](https://github.com/NVIDIA/AMGX/tree/master/core/configs). To create a GMRES solver:"
   ]
  },
  {
   "cell_type": "code",
   "execution_count": 13,
   "metadata": {},
   "outputs": [],
   "source": [
    "import pyamgx\n",
    "pyamgx.initialize()\n",
    "\n",
    "cfg_dict = {\n",
    "    \"config_version\": 2, \n",
    "    \"determinism_flag\": 1,\n",
    "    \"exception_handling\" : 1,\n",
    "    \"solver\": {\n",
    "        \"print_grid_stats\": 1, \n",
    "        \"store_res_history\": 1, \n",
    "        \"solver\": \"GMRES\", \n",
    "        \"print_solve_stats\": 1, \n",
    "        \"obtain_timings\": 1, \n",
    "        \"preconditioner\": {\n",
    "            \"interpolator\": \"D2\", \n",
    "            \"print_grid_stats\": 1, \n",
    "            \"solver\": \"AMG\", \n",
    "            \"smoother\": \"JACOBI_L1\", \n",
    "            \"presweeps\": 2, \n",
    "            \"selector\": \"PMIS\", \n",
    "            \"coarsest_sweeps\": 2, \n",
    "            \"coarse_solver\": \"NOSOLVER\", \n",
    "            \"max_iters\": 1, \n",
    "            \"interp_max_elements\": 4, \n",
    "            \"min_coarse_rows\": 2, \n",
    "            \"scope\": \"amg_solver\", \n",
    "            \"max_levels\": 24, \n",
    "            \"cycle\": \"V\", \n",
    "            \"postsweeps\": 2\n",
    "        }, \n",
    "        \"max_iters\": 100, \n",
    "        \"monitor_residual\": 1, \n",
    "        \"gmres_n_restart\": 10, \n",
    "        \"convergence\": \"RELATIVE_INI_CORE\", \n",
    "        \"tolerance\": 1e-06, \n",
    "        \"norm\": \"L2\"\n",
    "   }\n",
    "}\n",
    "\n",
    "gmres = PyAMGXSolver(cfg_dict)"
   ]
  },
  {
   "cell_type": "markdown",
   "metadata": {},
   "source": [
    "Let's solve the diffusion equation with this solver:"
   ]
  },
  {
   "cell_type": "code",
   "execution_count": 14,
   "metadata": {},
   "outputs": [],
   "source": [
    "phi.value = 0 # reset the value of phi"
   ]
  },
  {
   "cell_type": "code",
   "execution_count": 15,
   "metadata": {},
   "outputs": [
    {
     "name": "stdout",
     "output_type": "stream",
     "text": [
      "2.32 s ± 0 ns per loop (mean ± std. dev. of 1 run, 1 loop each)\n"
     ]
    }
   ],
   "source": [
    "%%timeit -n1 -r1\n",
    "eq.solve(var=phi, solver=gmres)"
   ]
  },
  {
   "cell_type": "code",
   "execution_count": 16,
   "metadata": {},
   "outputs": [
    {
     "data": {
      "image/png": "[encoded data removed]",
      "text/plain": [
       "<matplotlib.figure.Figure at 0x2ad787be2048>"
      ]
     },
     "metadata": {},
     "output_type": "display_data"
    }
   ],
   "source": [
    "viewer = Viewer(vars=phi, datamin=0., datamax=1., cmap='hot')"
   ]
  },
  {
   "cell_type": "markdown",
   "metadata": {},
   "source": [
    "We see that the solution is obtained in about 2.2 seconds. Below, we time the default FiPy solver and the custom PyAMGX solver for various problem sizes and plot the resulting speedups. At steady state, the value of $\\phi$ at the center of the square is expected to be 0.5."
   ]
  },
  {
   "cell_type": "code",
   "execution_count": 17,
   "metadata": {},
   "outputs": [
    {
     "name": "stdout",
     "output_type": "stream",
     "text": [
      "N = 100\n",
      "\t Time taken by default solver: 0.11637711524963379\n",
      "\t Time taken by pyamgx solver: 0.08561372756958008\n",
      "\t Value of phi at (x, y) = (0.5, 0.5): [0.5000008]\n",
      "N = 200\n",
      "\t Time taken by default solver: 0.3544180393218994\n",
      "\t Time taken by pyamgx solver: 0.1614387035369873\n",
      "\t Value of phi at (x, y) = (0.5, 0.5): [0.50000176]\n",
      "N = 500\n",
      "\t Time taken by default solver: 1.598724603652954\n",
      "\t Time taken by pyamgx solver: 0.7140552997589111\n",
      "\t Value of phi at (x, y) = (0.5, 0.5): [0.50000219]\n",
      "N = 1000\n",
      "\t Time taken by default solver: 7.375799655914307\n",
      "\t Time taken by pyamgx solver: 2.863416910171509\n",
      "\t Value of phi at (x, y) = (0.5, 0.5): [0.50000169]\n",
      "N = 2000\n",
      "\t Time taken by default solver: 40.91820979118347\n",
      "\t Time taken by pyamgx solver: 13.618036985397339\n",
      "\t Value of phi at (x, y) = (0.5, 0.5): [0.50001389]\n"
     ]
    }
   ],
   "source": [
    "import time\n",
    "default_solver_times = []\n",
    "pyamgx_solver_times = []\n",
    "\n",
    "for N in [100, 200, 500, 1000, 2000]:\n",
    "    phi = setup_phi(N)\n",
    "    t1 = time.time()\n",
    "    DiffusionTerm().solve(var=phi)\n",
    "    t2 = time.time()\n",
    "    \n",
    "    phi = setup_phi(N)\n",
    "    t3 = time.time()\n",
    "    DiffusionTerm().solve(var=phi, solver=gmres)\n",
    "    t4 = time.time()\n",
    "    \n",
    "    default_solver_times.append(t2-t1)\n",
    "    pyamgx_solver_times.append(t4-t3)\n",
    "    print(\"N = {}\".format(N))\n",
    "    print(\"\\t Time taken by default solver: {}\".format(t2-t1))\n",
    "    print(\"\\t Time taken by pyamgx solver: {}\".format(t4-t3))\n",
    "    print(\"\\t Value of phi at (x, y) = (0.5, 0.5): {}\".format(phi(((N/2,), (N/2)))))"
   ]
  },
  {
   "cell_type": "code",
   "execution_count": 18,
   "metadata": {},
   "outputs": [],
   "source": [
    "speedups = [n1/n2 for n1, n2 in zip(default_solver_times, pyamgx_solver_times)]"
   ]
  },
  {
   "cell_type": "code",
   "execution_count": 19,
   "metadata": {},
   "outputs": [
    {
     "data": {
      "text/plain": [
       "Text(0,0.5,'Speedup')"
      ]
     },
     "execution_count": 19,
     "metadata": {},
     "output_type": "execute_result"
    },
    {
     "data": {
      "image/png": "[encoded data removed]",
      "text/plain": [
       "<matplotlib.figure.Figure at 0x2ad793ed8668>"
      ]
     },
     "metadata": {},
     "output_type": "display_data"
    }
   ],
   "source": [
    "import matplotlib.pyplot as plt\n",
    "import numpy as np\n",
    "\n",
    "plt.bar(np.arange(5), speedups)\n",
    "plt.xticks(np.arange(5), [100, 200, 500, 1000, 2000])\n",
    "plt.xlabel('N (number of grid points along each dimension)')\n",
    "plt.ylabel('Speedup')"
   ]
  },
  {
   "cell_type": "markdown",
   "metadata": {},
   "source": [
    "## Example 2: Transient diffusion"
   ]
  },
  {
   "cell_type": "markdown",
   "metadata": {},
   "source": [
    "In the steady problem, data is only transferred from the CPU to GPU once (before the linear solve), and from GPU to CPU once (after the linear solve). In the transient problem, these copies happen every time step, and it will be interesting to see if this impacts performance."
   ]
  },
  {
   "cell_type": "markdown",
   "metadata": {},
   "source": [
    "First, we define the values of the coefficient $D$, the length of the time step $dt$, and the number of time steps to take:"
   ]
  },
  {
   "cell_type": "code",
   "execution_count": 20,
   "metadata": {},
   "outputs": [],
   "source": [
    "D = 1\n",
    "dx = 1.\n",
    "timeStepDuration = 10 * 0.9 * dx**2 / (2 * D)\n",
    "steps = 100"
   ]
  },
  {
   "cell_type": "markdown",
   "metadata": {},
   "source": [
    "We define phi as before. For this test, we'll use smaller meshes:"
   ]
  },
  {
   "cell_type": "code",
   "execution_count": 21,
   "metadata": {},
   "outputs": [],
   "source": [
    "phi = setup_phi(200)"
   ]
  },
  {
   "cell_type": "markdown",
   "metadata": {},
   "source": [
    "We construct the set of equations that arise from the implicit discretization of the transient diffusion equation:"
   ]
  },
  {
   "cell_type": "code",
   "execution_count": 22,
   "metadata": {},
   "outputs": [],
   "source": [
    "eq = TransientTerm() == DiffusionTerm(coeff=D)"
   ]
  },
  {
   "cell_type": "markdown",
   "metadata": {},
   "source": [
    "Now, we march in time by the number of steps defined in `steps`. At each time step, a linear system is solved that gives the updated values of $\\phi$."
   ]
  },
  {
   "cell_type": "code",
   "execution_count": 23,
   "metadata": {},
   "outputs": [
    {
     "name": "stdout",
     "output_type": "stream",
     "text": [
      "28.4 s ± 0 ns per loop (mean ± std. dev. of 1 run, 1 loop each)\n"
     ]
    }
   ],
   "source": [
    "%%timeit -n1 -r1\n",
    "for step in range(steps):\n",
    "    eq.solve(var=phi,\n",
    "            dt=timeStepDuration)"
   ]
  },
  {
   "cell_type": "markdown",
   "metadata": {},
   "source": [
    "We visualize the values of $\\phi$ after `steps` steps, and examine the value at the center of the domain:"
   ]
  },
  {
   "cell_type": "code",
   "execution_count": 24,
   "metadata": {},
   "outputs": [
    {
     "data": {
      "image/png": "[encoded data removed]",
      "text/plain": [
       "<matplotlib.figure.Figure at 0x2ad799dee3c8>"
      ]
     },
     "metadata": {},
     "output_type": "display_data"
    }
   ],
   "source": [
    "viewer = Viewer(vars=phi, datamin=0., datamax=1., cmap='hot')"
   ]
  },
  {
   "cell_type": "code",
   "execution_count": 25,
   "metadata": {},
   "outputs": [
    {
     "name": "stdout",
     "output_type": "stream",
     "text": [
      "Value of phi at (x, y) = (0.5, 0.5): [0.00029121]\n"
     ]
    }
   ],
   "source": [
    "print(\"Value of phi at (x, y) = (0.5, 0.5): {}\".format(phi(((N/2,), (N/2)))))"
   ]
  },
  {
   "cell_type": "markdown",
   "metadata": {},
   "source": [
    "Repeat, using the `PyAMGXSolver` solver instead of the default solver:"
   ]
  },
  {
   "cell_type": "code",
   "execution_count": 26,
   "metadata": {},
   "outputs": [],
   "source": [
    "phi.value = 0"
   ]
  },
  {
   "cell_type": "code",
   "execution_count": 27,
   "metadata": {},
   "outputs": [
    {
     "name": "stdout",
     "output_type": "stream",
     "text": [
      "10.2 s ± 0 ns per loop (mean ± std. dev. of 1 run, 1 loop each)\n"
     ]
    }
   ],
   "source": [
    "%%timeit -n1 -r1\n",
    "for step in range(steps):\n",
    "    eq.solve(var=phi,\n",
    "            dt=timeStepDuration,\n",
    "            solver=gmres)"
   ]
  },
  {
   "cell_type": "code",
   "execution_count": 28,
   "metadata": {},
   "outputs": [
    {
     "data": {
      "image/png": "[encoded data removed]",
      "text/plain": [
       "<matplotlib.figure.Figure at 0x2ad79af06588>"
      ]
     },
     "metadata": {},
     "output_type": "display_data"
    }
   ],
   "source": [
    "viewer = Viewer(vars=phi, datamin=0., datamax=1., cmap='hot')"
   ]
  },
  {
   "cell_type": "code",
   "execution_count": 29,
   "metadata": {},
   "outputs": [
    {
     "name": "stdout",
     "output_type": "stream",
     "text": [
      "Value of phi at (x, y) = (0.5, 0.5): [0.00029121]\n"
     ]
    }
   ],
   "source": [
    "print(\"Value of phi at (x, y) = (0.5, 0.5): {}\".format(phi(((N/2,), (N/2)))))"
   ]
  },
  {
   "cell_type": "markdown",
   "metadata": {},
   "source": [
    "We see that both solvers give an identical solution, while the PyAMGXSolver is almost 3 times faster. As with the steady problem, let's plot the speedups obtained for different problem sizes:"
   ]
  },
  {
   "cell_type": "code",
   "execution_count": 30,
   "metadata": {},
   "outputs": [
    {
     "name": "stdout",
     "output_type": "stream",
     "text": [
      "N = 20\n",
      "\t Time taken by default solver: 2.46803617477417\n",
      "\t Time taken by pyamgx solver: 2.570352792739868\n",
      "N = 50\n",
      "\t Time taken by default solver: 4.325623035430908\n",
      "\t Time taken by pyamgx solver: 3.7269644737243652\n",
      "N = 100\n",
      "\t Time taken by default solver: 9.443152904510498\n",
      "\t Time taken by pyamgx solver: 5.097434043884277\n",
      "N = 200\n",
      "\t Time taken by default solver: 26.732409954071045\n",
      "\t Time taken by pyamgx solver: 10.17663860321045\n",
      "N = 500\n",
      "\t Time taken by default solver: 128.21260166168213\n",
      "\t Time taken by pyamgx solver: 41.02032709121704\n"
     ]
    }
   ],
   "source": [
    "import time\n",
    "default_solver_times = []\n",
    "pyamgx_solver_times = []\n",
    "\n",
    "for N in [20, 50, 100, 200, 500]:\n",
    "\n",
    "    phi = setup_phi(N)\n",
    "    eq = TransientTerm() == DiffusionTerm(coeff=D)\n",
    "    \n",
    "    t1 = time.time()\n",
    "    for step in range(steps):\n",
    "        eq.solve(var=phi,\n",
    "            dt=timeStepDuration)o\n",
    "    t2 = time.time()\n",
    "    \n",
    "    phi.value = 0\n",
    "    \n",
    "    t3 = time.time()\n",
    "    for step in range(steps):\n",
    "        eq.solve(var=phi,\n",
    "            dt=timeStepDuration,\n",
    "            solver=gmres)\n",
    "    t4 = time.time()\n",
    "    \n",
    "    default_solver_times.append(t2-t1)\n",
    "    pyamgx_solver_times.append(t4-t3)\n",
    "    print(\"N = {}\".format(N))\n",
    "    print(\"\\t Time taken by default solver: {}\".format(t2-t1))\n",
    "    print(\"\\t Time taken by pyamgx solver: {}\".format(t4-t3))"
   ]
  },
  {
   "cell_type": "code",
   "execution_count": 31,
   "metadata": {},
   "outputs": [
    {
     "data": {
      "text/plain": [
       "Text(0,0.5,'Speedup')"
      ]
     },
     "execution_count": 31,
     "metadata": {},
     "output_type": "execute_result"
    },
    {
     "data": {
      "image/png": "[encoded data removed]",
      "text/plain": [
       "<matplotlib.figure.Figure at 0x2ad79ac01780>"
      ]
     },
     "metadata": {},
     "output_type": "display_data"
    }
   ],
   "source": [
    "speedups = [n1/n2 for n1, n2 in zip(default_solver_times, pyamgx_solver_times)]\n",
    "\n",
    "plt.bar(np.arange(5), speedups)\n",
    "plt.xticks(np.arange(5), [20, 50, 100, 200, 500])\n",
    "plt.xlabel('N (number of grid points along each dimension)')\n",
    "plt.ylabel('Speedup')"
   ]
  },
  {
   "cell_type": "markdown",
   "metadata": {},
   "source": [
    "## Conclusions\n",
    "\n",
    "FiPy can be accelerated on the GPU using the sparse linear solvers from the AmgX library (via `pyamgx`). For the simple case of 2-d diffusion, this results in a speedup of up to 3x."
   ]
  }
 ],
 "metadata": {
  "kernelspec": {
   "display_name": "pyamgx",
   "language": "python",
   "name": "pyamgx"
  },
  "language_info": {
   "codemirror_mode": {
    "name": "ipython",
    "version": 3
   },
   "file_extension": ".py",
   "mimetype": "text/x-python",
   "name": "python",
   "nbconvert_exporter": "python",
   "pygments_lexer": "ipython3",
   "version": "3.6.4"
  }
 },
 "nbformat": 4,
 "nbformat_minor": 2
}
